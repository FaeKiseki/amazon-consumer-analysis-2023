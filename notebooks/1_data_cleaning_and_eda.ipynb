{
 "cells": [
  {
   "cell_type": "code",
   "execution_count": 35,
   "metadata": {},
   "outputs": [],
   "source": [
    "# 1. Importing libraries\n",
    "\n",
    "import pandas as pd\n",
    "import numpy as np\n",
    "import matplotlib.pyplot as plt\n",
    "import seaborn as sns\n",
    "import os"
   ]
  },
  {
   "cell_type": "code",
   "execution_count": 36,
   "metadata": {},
   "outputs": [],
   "source": [
    "# 2. Loading the dataset\n",
    "\n",
    "file_path = \"../data/All Electronics.csv\"\n",
    "df = pd.read_csv(file_path)"
   ]
  },
  {
   "cell_type": "code",
   "execution_count": 37,
   "metadata": {},
   "outputs": [
    {
     "name": "stdout",
     "output_type": "stream",
     "text": [
      "(9600, 9)\n",
      "name              object\n",
      "main_category     object\n",
      "sub_category      object\n",
      "image             object\n",
      "link              object\n",
      "ratings           object\n",
      "no_of_ratings     object\n",
      "discount_price    object\n",
      "actual_price      object\n",
      "dtype: object\n"
     ]
    },
    {
     "data": {
      "text/html": [
       "<div>\n",
       "<style scoped>\n",
       "    .dataframe tbody tr th:only-of-type {\n",
       "        vertical-align: middle;\n",
       "    }\n",
       "\n",
       "    .dataframe tbody tr th {\n",
       "        vertical-align: top;\n",
       "    }\n",
       "\n",
       "    .dataframe thead th {\n",
       "        text-align: right;\n",
       "    }\n",
       "</style>\n",
       "<table border=\"1\" class=\"dataframe\">\n",
       "  <thead>\n",
       "    <tr style=\"text-align: right;\">\n",
       "      <th></th>\n",
       "      <th>name</th>\n",
       "      <th>main_category</th>\n",
       "      <th>sub_category</th>\n",
       "      <th>image</th>\n",
       "      <th>link</th>\n",
       "      <th>ratings</th>\n",
       "      <th>no_of_ratings</th>\n",
       "      <th>discount_price</th>\n",
       "      <th>actual_price</th>\n",
       "    </tr>\n",
       "  </thead>\n",
       "  <tbody>\n",
       "    <tr>\n",
       "      <th>0</th>\n",
       "      <td>Redmi 10 Power (Power Black, 8GB RAM, 128GB St...</td>\n",
       "      <td>tv, audio &amp; cameras</td>\n",
       "      <td>All Electronics</td>\n",
       "      <td>https://m.media-amazon.com/images/I/81eM15lVcJ...</td>\n",
       "      <td>https://www.amazon.in/Redmi-Power-Black-128GB-...</td>\n",
       "      <td>4.0</td>\n",
       "      <td>965</td>\n",
       "      <td>₹10,999</td>\n",
       "      <td>₹18,999</td>\n",
       "    </tr>\n",
       "    <tr>\n",
       "      <th>1</th>\n",
       "      <td>OnePlus Nord CE 2 Lite 5G (Blue Tide, 6GB RAM,...</td>\n",
       "      <td>tv, audio &amp; cameras</td>\n",
       "      <td>All Electronics</td>\n",
       "      <td>https://m.media-amazon.com/images/I/71AvQd3Vzq...</td>\n",
       "      <td>https://www.amazon.in/OnePlus-Nord-Lite-128GB-...</td>\n",
       "      <td>4.3</td>\n",
       "      <td>113,956</td>\n",
       "      <td>₹18,999</td>\n",
       "      <td>₹19,999</td>\n",
       "    </tr>\n",
       "    <tr>\n",
       "      <th>2</th>\n",
       "      <td>OnePlus Bullets Z2 Bluetooth Wireless in Ear E...</td>\n",
       "      <td>tv, audio &amp; cameras</td>\n",
       "      <td>All Electronics</td>\n",
       "      <td>https://m.media-amazon.com/images/I/51UhwaQXCp...</td>\n",
       "      <td>https://www.amazon.in/Oneplus-Bluetooth-Wirele...</td>\n",
       "      <td>4.2</td>\n",
       "      <td>90,304</td>\n",
       "      <td>₹1,999</td>\n",
       "      <td>₹2,299</td>\n",
       "    </tr>\n",
       "    <tr>\n",
       "      <th>3</th>\n",
       "      <td>Samsung Galaxy M33 5G (Mystique Green, 6GB, 12...</td>\n",
       "      <td>tv, audio &amp; cameras</td>\n",
       "      <td>All Electronics</td>\n",
       "      <td>https://m.media-amazon.com/images/I/81I3w4J6yj...</td>\n",
       "      <td>https://www.amazon.in/Samsung-Mystique-Storage...</td>\n",
       "      <td>4.1</td>\n",
       "      <td>24,863</td>\n",
       "      <td>₹15,999</td>\n",
       "      <td>₹24,999</td>\n",
       "    </tr>\n",
       "    <tr>\n",
       "      <th>4</th>\n",
       "      <td>OnePlus Nord CE 2 Lite 5G (Black Dusk, 6GB RAM...</td>\n",
       "      <td>tv, audio &amp; cameras</td>\n",
       "      <td>All Electronics</td>\n",
       "      <td>https://m.media-amazon.com/images/I/71V--WZVUI...</td>\n",
       "      <td>https://www.amazon.in/OnePlus-Nord-Black-128GB...</td>\n",
       "      <td>4.3</td>\n",
       "      <td>113,956</td>\n",
       "      <td>₹18,999</td>\n",
       "      <td>₹19,999</td>\n",
       "    </tr>\n",
       "  </tbody>\n",
       "</table>\n",
       "</div>"
      ],
      "text/plain": [
       "                                                name        main_category  \\\n",
       "0  Redmi 10 Power (Power Black, 8GB RAM, 128GB St...  tv, audio & cameras   \n",
       "1  OnePlus Nord CE 2 Lite 5G (Blue Tide, 6GB RAM,...  tv, audio & cameras   \n",
       "2  OnePlus Bullets Z2 Bluetooth Wireless in Ear E...  tv, audio & cameras   \n",
       "3  Samsung Galaxy M33 5G (Mystique Green, 6GB, 12...  tv, audio & cameras   \n",
       "4  OnePlus Nord CE 2 Lite 5G (Black Dusk, 6GB RAM...  tv, audio & cameras   \n",
       "\n",
       "      sub_category                                              image  \\\n",
       "0  All Electronics  https://m.media-amazon.com/images/I/81eM15lVcJ...   \n",
       "1  All Electronics  https://m.media-amazon.com/images/I/71AvQd3Vzq...   \n",
       "2  All Electronics  https://m.media-amazon.com/images/I/51UhwaQXCp...   \n",
       "3  All Electronics  https://m.media-amazon.com/images/I/81I3w4J6yj...   \n",
       "4  All Electronics  https://m.media-amazon.com/images/I/71V--WZVUI...   \n",
       "\n",
       "                                                link ratings no_of_ratings  \\\n",
       "0  https://www.amazon.in/Redmi-Power-Black-128GB-...     4.0           965   \n",
       "1  https://www.amazon.in/OnePlus-Nord-Lite-128GB-...     4.3       113,956   \n",
       "2  https://www.amazon.in/Oneplus-Bluetooth-Wirele...     4.2        90,304   \n",
       "3  https://www.amazon.in/Samsung-Mystique-Storage...     4.1        24,863   \n",
       "4  https://www.amazon.in/OnePlus-Nord-Black-128GB...     4.3       113,956   \n",
       "\n",
       "  discount_price actual_price  \n",
       "0        ₹10,999      ₹18,999  \n",
       "1        ₹18,999      ₹19,999  \n",
       "2         ₹1,999       ₹2,299  \n",
       "3        ₹15,999      ₹24,999  \n",
       "4        ₹18,999      ₹19,999  "
      ]
     },
     "execution_count": 37,
     "metadata": {},
     "output_type": "execute_result"
    }
   ],
   "source": [
    "# 3. Quick overview\n",
    "\n",
    "print(\"Shape of dataset:\", df.shape)\n",
    "print(\"Data types:\\n\", df.dtypes)\n",
    "display(df.head())"
   ]
  },
  {
   "cell_type": "code",
   "execution_count": 38,
   "metadata": {},
   "outputs": [],
   "source": [
    "# 4. Cleaning numerical columns\n",
    "\n",
    "df['discount_price'] = df['discount_price'].replace('[₹,]', '', regex=True).astype(float)\n",
    "df['actual_price'] = df['actual_price'].replace('[₹,]', '', regex=True).astype(float)\n",
    "df['no_of_ratings'] = pd.to_numeric(df['no_of_ratings'].str.replace(',', ''), errors='coerce')\n",
    "df['no_of_ratings'] = df['no_of_ratings'].fillna(0).astype(int)\n",
    "df['ratings'] = pd.to_numeric(df['ratings'], errors='coerce')\n",
    "df['ratings'] = df['ratings'].fillna(0).astype(float)"
   ]
  },
  {
   "cell_type": "code",
   "execution_count": 39,
   "metadata": {},
   "outputs": [],
   "source": [
    "# 5. Calculate percentage discount between actual and discount price\n",
    "df['discount_percent'] = round((1 - df['discount_price'] / df['actual_price']) * 100, 2)"
   ]
  },
  {
   "cell_type": "code",
   "execution_count": 40,
   "metadata": {},
   "outputs": [
    {
     "name": "stdout",
     "output_type": "stream",
     "text": [
      "Missing values per column:\n",
      " name                  0\n",
      "main_category         0\n",
      "sub_category          0\n",
      "image                 0\n",
      "link                  0\n",
      "ratings               0\n",
      "no_of_ratings         0\n",
      "discount_price      484\n",
      "actual_price         70\n",
      "discount_percent    484\n",
      "dtype: int64\n"
     ]
    }
   ],
   "source": [
    "# 6. Checking missing values per column\n",
    "missing_values = df.isnull().sum()\n",
    "print(\"Missing values per column:\\n\", missing_values)\n"
   ]
  },
  {
   "cell_type": "code",
   "execution_count": 41,
   "metadata": {},
   "outputs": [],
   "source": [
    "# 7. Deleting lanes with missing values\n",
    "\n",
    "df = df.dropna(subset=['discount_price', 'actual_price'])"
   ]
  },
  {
   "cell_type": "code",
   "execution_count": 42,
   "metadata": {},
   "outputs": [
    {
     "name": "stdout",
     "output_type": "stream",
     "text": [
      "           ratings  no_of_ratings  discount_price   actual_price  \\\n",
      "count  9116.000000    9116.000000     9116.000000    9116.000000   \n",
      "mean      4.019713    8900.373080     2976.275592    5069.066845   \n",
      "std       0.589667   28503.678557     8865.480379   12209.162421   \n",
      "min       0.000000       0.000000       10.000000      30.000000   \n",
      "25%       3.900000     211.000000      299.000000     899.000000   \n",
      "50%       4.100000    1093.000000      580.500000    1499.000000   \n",
      "75%       4.300000    4992.000000     1595.000000    3499.000000   \n",
      "max       5.000000  437651.000000   134999.000000  161999.000000   \n",
      "\n",
      "       discount_percent  \n",
      "count       9116.000000  \n",
      "mean          52.550171  \n",
      "std           21.715125  \n",
      "min            0.000000  \n",
      "25%           36.860000  \n",
      "50%           56.320000  \n",
      "75%           70.070000  \n",
      "max           97.890000  \n"
     ]
    }
   ],
   "source": [
    "# 8. Descriptive statistics for numerical columns\n",
    "\n",
    "print(df[['ratings', 'no_of_ratings', 'discount_price', 'actual_price', 'discount_percent']].describe())"
   ]
  },
  {
   "cell_type": "code",
   "execution_count": 43,
   "metadata": {},
   "outputs": [
    {
     "data": {
      "image/png": "[encoded data removed]",
      "text/plain": [
       "<Figure size 800x600 with 2 Axes>"
      ]
     },
     "metadata": {},
     "output_type": "display_data"
    }
   ],
   "source": [
    "# 9. Correlation Heatmap\n",
    "\n",
    "plt.figure(figsize=(8,6))\n",
    "sns.heatmap(df[['ratings', 'no_of_ratings', 'discount_price', 'actual_price', 'discount_percent']].corr(), annot=True, cmap='coolwarm')\n",
    "plt.title('Correlation Heatmap of Numerical Features')\n",
    "plt.show()"
   ]
  },
  {
   "cell_type": "code",
   "execution_count": 45,
   "metadata": {},
   "outputs": [
    {
     "name": "stdout",
     "output_type": "stream",
     "text": [
      "                                                   name  ratings  \\\n",
      "1217  Amazon Basics High-Speed HDMI Cable, 6 Feet - ...      4.4   \n",
      "605   Amazon Basics Flexible Premium HDMI Cable (Bla...      4.4   \n",
      "470   Amazon Basics High-Speed HDMI Cable - 10 Feet ...      4.4   \n",
      "2542  Amazon Basics High-Speed HDMI Cable, 6 Feet (2...      4.4   \n",
      "382   boAt BassHeads 100 in-Ear Wired Headphones wit...      4.1   \n",
      "4365  boAt BassHeads 100 Delhi Capitals Edition Wire...      4.1   \n",
      "170   boAt Bassheads 100 in Ear Wired Earphones with...      4.1   \n",
      "848   boAt Bassheads 100 Wired in Ear Earphones with...      4.1   \n",
      "280   boAt Bassheads 100 Wired in Ear Earphones with...      4.1   \n",
      "15    boAt BassHeads 100 in-Ear Wired Headphones wit...      4.1   \n",
      "\n",
      "      no_of_ratings  discount_price  actual_price  \n",
      "1217         437651           269.0         475.0  \n",
      "605          437651           269.0         700.0  \n",
      "470          437651           379.0         995.0  \n",
      "2542         437651           349.0        1400.0  \n",
      "382          375110           399.0         999.0  \n",
      "4365         375110           474.0        1499.0  \n",
      "170          375110           399.0         999.0  \n",
      "848          375110           399.0         999.0  \n",
      "280          375110           399.0         999.0  \n",
      "15           375110           399.0         999.0  \n"
     ]
    }
   ],
   "source": [
    "# 10. Top 10 products by number of ratings\n",
    "\n",
    "top_10 = df.sort_values(by='no_of_ratings', ascending=False).head(10)\n",
    "print(top_10[['name', 'ratings', 'no_of_ratings', 'discount_price', 'actual_price']])"
   ]
  },
  {
   "cell_type": "code",
   "execution_count": 46,
   "metadata": {},
   "outputs": [],
   "source": [
    "# 11. Export cleaned data\n",
    "\n",
    "df.to_csv('../data/cleaned_data_final.csv', index=False)"
   ]
  }
 ],
 "metadata": {
  "kernelspec": {
   "display_name": "env1",
   "language": "python",
   "name": "python3"
  },
  "language_info": {
   "codemirror_mode": {
    "name": "ipython",
    "version": 3
   },
   "file_extension": ".py",
   "mimetype": "text/x-python",
   "name": "python",
   "nbconvert_exporter": "python",
   "pygments_lexer": "ipython3",
   "version": "3.12.7"
  }
 },
 "nbformat": 4,
 "nbformat_minor": 2
}
